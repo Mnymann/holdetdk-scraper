{
 "cells": [
  {
   "cell_type": "markdown",
   "metadata": {},
   "source": [
    "### Importér HoldetScraper-klassen"
   ]
  },
  {
   "cell_type": "code",
   "execution_count": 1,
   "metadata": {},
   "outputs": [],
   "source": [
    "import pandas as pd\n",
    "import os\n",
    "from holdetdk_scraper import HoldetScraper"
   ]
  },
  {
   "cell_type": "markdown",
   "metadata": {},
   "source": [
    "### Lav en scraper instans."
   ]
  },
  {
   "cell_type": "code",
   "execution_count": 2,
   "metadata": {},
   "outputs": [],
   "source": [
    "scraper = HoldetScraper()"
   ]
  },
  {
   "cell_type": "markdown",
   "metadata": {},
   "source": [
    "### Print en liste over aktive spil."
   ]
  },
  {
   "cell_type": "code",
   "execution_count": 3,
   "metadata": {},
   "outputs": [
    {
     "data": {
      "text/plain": [
       "['Bundes Manager Efterår 2022',\n",
       " 'EM Manager 2022',\n",
       " 'Golf Manager 2022',\n",
       " 'La Liga Manager Efterår 2022',\n",
       " 'Motor Manager 2022',\n",
       " 'Premier Manager Efterår 2022',\n",
       " 'Serie A Manager Efterår 2022',\n",
       " 'Super Manager Efterår 2022',\n",
       " 'Tour Manager 2022',\n",
       " 'Tourspillet 2022',\n",
       " 'Vuelta Manager 2022',\n",
       " 'Vueltaspillet 2022']"
      ]
     },
     "execution_count": 3,
     "metadata": {},
     "output_type": "execute_result"
    }
   ],
   "source": [
    "scraper.active_games"
   ]
  },
  {
   "cell_type": "markdown",
   "metadata": {},
   "source": [
    "### Træk tabel og hold for Top 100 i præmiepuljen for den aktive runde i Premier Manager Efterår 2022."
   ]
  },
  {
   "cell_type": "code",
   "execution_count": 4,
   "metadata": {},
   "outputs": [
    {
     "name": "stderr",
     "output_type": "stream",
     "text": [
      "Bundes Manager Efterår 2022, Runde 4: Henter tabel for Top 100 i præmiepuljen: 100%|██████████| 5/5 [00:01<00:00,  2.80it/s]\n",
      "Henter hold: 100%|██████████| 100/100 [00:55<00:00,  1.79it/s]\n"
     ]
    }
   ],
   "source": [
    "game =  'Premier Manager Efterår 2022' # - vælg evt. selv et andet af de aktive spil\n",
    "round = 0 # træk for den aktive runde\n",
    "top = 100\n",
    "table, teams = scraper.get_table_and_teams(game=game, round=round, top=top)"
   ]
  },
  {
   "cell_type": "markdown",
   "metadata": {},
   "source": [
    "### Udregn popularitetsprocenter for alle spillere på de hold som er hentet ned ovenfor"
   ]
  },
  {
   "cell_type": "code",
   "execution_count": 5,
   "metadata": {},
   "outputs": [
    {
     "name": "stdout",
     "output_type": "stream",
     "text": [
      "Der er kun 100 hold i tabellen. Returnerer alle meningsfulde splits.\n"
     ]
    }
   ],
   "source": [
    "popularity = scraper.calc_popularity_table(teams, splits = [100, 1000])"
   ]
  },
  {
   "cell_type": "markdown",
   "metadata": {},
   "source": [
    "### Gem tabel og hold i Excel-fil i Output-mappen."
   ]
  },
  {
   "cell_type": "code",
   "execution_count": null,
   "metadata": {},
   "outputs": [],
   "source": [
    "output_folder = os.path.abspath('') + '/Output'\n",
    "#if not os.path.exists(output_folder):\n",
    "#    os.makedirs(output_folder)\n",
    "\n",
    "output_path = f'{output_folder}/{game}, Runde {str(table.at[0, \"Runde\"])}, Top {len(table)}.xlsx'\n",
    "with pd.ExcelWriter(output_path) as writer:  \n",
    "    table.to_excel(writer, sheet_name='Tabel', index=False)\n",
    "    teams.to_excel(writer, sheet_name='Hold', index=False)\n",
    "    popularity.to_excel(writer, sheet_name='Popularitet', index=False)"
   ]
  }
 ],
 "metadata": {
  "interpreter": {
   "hash": "aee8b7b246df8f9039afb4144a1f6fd8d2ca17a180786b69acc140d282b71a49"
  },
  "kernelspec": {
   "display_name": "Python 3.10.4 64-bit",
   "language": "python",
   "name": "python3"
  },
  "language_info": {
   "codemirror_mode": {
    "name": "ipython",
    "version": 3
   },
   "file_extension": ".py",
   "mimetype": "text/x-python",
   "name": "python",
   "nbconvert_exporter": "python",
   "pygments_lexer": "ipython3",
   "version": "3.10.4"
  },
  "orig_nbformat": 4
 },
 "nbformat": 4,
 "nbformat_minor": 2
}
