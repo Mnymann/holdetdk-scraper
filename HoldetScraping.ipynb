{
 "cells": [
  {
   "cell_type": "markdown",
   "metadata": {},
   "source": [
    "### Importér HoldetScraper-klassen"
   ]
  },
  {
   "cell_type": "code",
   "execution_count": 1,
   "metadata": {},
   "outputs": [],
   "source": [
    "import pandas as pd\n",
    "from holdetdk_scraper import HoldetScraper"
   ]
  },
  {
   "cell_type": "markdown",
   "metadata": {},
   "source": [
    "### Lav en scraper instans."
   ]
  },
  {
   "cell_type": "code",
   "execution_count": 2,
   "metadata": {},
   "outputs": [],
   "source": [
    "scraper = HoldetScraper()"
   ]
  },
  {
   "cell_type": "markdown",
   "metadata": {},
   "source": [
    "### Print en liste over aktive spil."
   ]
  },
  {
   "cell_type": "code",
   "execution_count": 3,
   "metadata": {},
   "outputs": [
    {
     "data": {
      "text/plain": [
       "['Bundes Manager Efterår 2022',\n",
       " 'EM Manager 2022',\n",
       " 'Golf Manager 2022',\n",
       " 'Motor Manager 2022',\n",
       " 'Premier Manager Efterår 2022',\n",
       " 'Super Manager Efterår 2022',\n",
       " 'Tour Manager 2022',\n",
       " 'Tourspillet 2022']"
      ]
     },
     "execution_count": 3,
     "metadata": {},
     "output_type": "execute_result"
    }
   ],
   "source": [
    "scraper.active_games"
   ]
  },
  {
   "cell_type": "markdown",
   "metadata": {},
   "source": [
    "### Træk tabel og hold for Top X i præmiepuljen for den aktive runde i det valgte spil.\n",
    "### Vær opmærksom på at scraperen trækker hold fra den aktive runde uanset hvilken runde der trækkes tabel for."
   ]
  },
  {
   "cell_type": "code",
   "execution_count": 4,
   "metadata": {},
   "outputs": [
    {
     "name": "stderr",
     "output_type": "stream",
     "text": [
      "Premier Manager Efterår 2022, Runde 1: Henter tabel for Top 100 i præmiepuljen: 100%|██████████| 5/5 [00:03<00:00,  1.60it/s]\n",
      "Henter hold: 100%|██████████| 100/100 [00:59<00:00,  1.68it/s]\n"
     ]
    }
   ],
   "source": [
    "game = 'Premier Manager Efterår 2022' # - vælg evt. selv et andet spil af de aktive spil\n",
    "round = 0 # træk for den aktive runde\n",
    "top = 100\n",
    "table, teams = scraper.get_table_and_teams(game=game, round=round, top=top)"
   ]
  },
  {
   "cell_type": "code",
   "execution_count": 5,
   "metadata": {},
   "outputs": [],
   "source": [
    "popularity = teams.groupby(['SpillerNavn', 'SpillerPosition']).size().reset_index(name='Antal')\n",
    "popularity['Popularitet'] = (popularity['Antal']/len(table))\n",
    "popularity.drop(['Antal'], axis = 1, inplace = True)"
   ]
  },
  {
   "cell_type": "code",
   "execution_count": 6,
   "metadata": {},
   "outputs": [],
   "source": [
    "captain = teams[teams['SpillerKaptajn']].groupby(['SpillerNavn', 'SpillerPosition']).size().reset_index(name='Antal')\n",
    "captain['Anfører'] = (captain['Antal']/len(table))\n",
    "captain.drop(['Antal'], axis = 1, inplace = True)"
   ]
  },
  {
   "cell_type": "code",
   "execution_count": 8,
   "metadata": {},
   "outputs": [],
   "source": [
    "final = popularity.merge(captain, how = 'left', left_on = ['SpillerNavn','SpillerPosition'], right_on = ['SpillerNavn','SpillerPosition'])\n",
    "final['Anfører'] = final['Anfører'].fillna(0)\n",
    "final.sort_values(by=['Popularitet', 'Anfører'], inplace=True, ascending=False)"
   ]
  },
  {
   "cell_type": "markdown",
   "metadata": {},
   "source": [
    "### Gem tabel og hold i Excel-fil i Output-mappen."
   ]
  },
  {
   "cell_type": "code",
   "execution_count": null,
   "metadata": {},
   "outputs": [],
   "source": [
    "output_path = f'Output/{game}, Runde {round}, Top {len(table)}.xlsx'\n",
    "with pd.ExcelWriter(output_path) as writer:  \n",
    "    table.to_excel(writer, sheet_name='Tabel', index=False)\n",
    "    teams.to_excel(writer, sheet_name='Hold', index=False)\n",
    "    final.to_excel(writer, sheet_name='Popularitet', index=False)"
   ]
  }
 ],
 "metadata": {
  "interpreter": {
   "hash": "aee8b7b246df8f9039afb4144a1f6fd8d2ca17a180786b69acc140d282b71a49"
  },
  "kernelspec": {
   "display_name": "Python 3.10.4 64-bit",
   "language": "python",
   "name": "python3"
  },
  "language_info": {
   "codemirror_mode": {
    "name": "ipython",
    "version": 3
   },
   "file_extension": ".py",
   "mimetype": "text/x-python",
   "name": "python",
   "nbconvert_exporter": "python",
   "pygments_lexer": "ipython3",
   "version": "3.10.4"
  },
  "orig_nbformat": 4
 },
 "nbformat": 4,
 "nbformat_minor": 2
}
